{
 "cells": [
  {
   "cell_type": "code",
   "execution_count": 1,
   "metadata": {},
   "outputs": [],
   "source": [
    "import os\n",
    "import logging"
   ]
  },
  {
   "cell_type": "code",
   "execution_count": 2,
   "metadata": {},
   "outputs": [],
   "source": [
    "filenames = os.listdir('data_raw')[1:]"
   ]
  },
  {
   "cell_type": "code",
   "execution_count": 70,
   "metadata": {},
   "outputs": [
    {
     "name": "stdout",
     "output_type": "stream",
     "text": [
      "['Ephesians.txt', 'John-2022.txt', '1Cor-2019.txt', 'Luke-2022.txt', 'Galatians.txt', 'Philippians.txt', 'Romans-2018.txt', 'Cardar-2022.txt', 'Colossians.txt']\n"
     ]
    }
   ],
   "source": [
    "print(filenames)"
   ]
  },
  {
   "cell_type": "code",
   "execution_count": 33,
   "metadata": {},
   "outputs": [],
   "source": [
    "def split_lang(filename:str):\n",
    "    ''' Returns dict with separated corpora. '''\n",
    "\n",
    "    with open(f'data_raw/{filename}', 'r', encoding='utf-8') as f:\n",
    "        lines = f.read().splitlines()\n",
    "    \n",
    "    lines_ = lines[4:] #lines[339:375]\n",
    "\n",
    "    trans_dict = {'tolk': [] , 'eng': [] }\n",
    "\n",
    "    pulling = 'tolk'\n",
    "    for en, e in enumerate(lines_):\n",
    "        if not e or e=='\\t' or e=='' or e==' ':\n",
    "            if pulling=='tolk':\n",
    "                pulling='eng'\n",
    "            elif pulling=='eng':\n",
    "                pulling='tolk'\n",
    "        else:\n",
    "            trans_dict[pulling].append(e)\n",
    "    \n",
    "    with open(f'data_proc/{filename}.en', 'a', encoding='utf-8') as f:\n",
    "        f.write('\\n'.join(trans_dict['eng']))\n",
    "        print(f'Finished reading english file for: {filename}')\n",
    "    \n",
    "    with open(f'data_proc/{filename}.tkn', 'a', encoding='utf-8') as f:\n",
    "        f.write('\\n'.join(trans_dict['tolk']))\n",
    "        print(f'Finished reading tolkien file for: {filename}')"
   ]
  },
  {
   "cell_type": "code",
   "execution_count": 82,
   "metadata": {},
   "outputs": [
    {
     "name": "stdout",
     "output_type": "stream",
     "text": [
      "Finished reading english file for: Ephesians.txt\n",
      "Finished reading tolkien file for: Ephesians.txt\n"
     ]
    }
   ],
   "source": [
    "split_lang(filenames[0])"
   ]
  },
  {
   "cell_type": "code",
   "execution_count": 83,
   "metadata": {},
   "outputs": [
    {
     "name": "stdout",
     "output_type": "stream",
     "text": [
      "Finished reading english file for: John-2022.txt\n",
      "Finished reading tolkien file for: John-2022.txt\n"
     ]
    }
   ],
   "source": [
    "split_lang(filenames[1])"
   ]
  },
  {
   "cell_type": "code",
   "execution_count": 84,
   "metadata": {},
   "outputs": [
    {
     "name": "stdout",
     "output_type": "stream",
     "text": [
      "Finished reading english file for: 1Cor-2019.txt\n",
      "Finished reading tolkien file for: 1Cor-2019.txt\n"
     ]
    }
   ],
   "source": [
    "split_lang(filenames[2])\n",
    "# line with error: 895"
   ]
  },
  {
   "cell_type": "code",
   "execution_count": 85,
   "metadata": {},
   "outputs": [
    {
     "name": "stdout",
     "output_type": "stream",
     "text": [
      "Finished reading english file for: Luke-2022.txt\n",
      "Finished reading tolkien file for: Luke-2022.txt\n"
     ]
    }
   ],
   "source": [
    "split_lang(filenames[3])"
   ]
  },
  {
   "cell_type": "code",
   "execution_count": 86,
   "metadata": {},
   "outputs": [
    {
     "name": "stdout",
     "output_type": "stream",
     "text": [
      "Finished reading english file for: Galatians.txt\n",
      "Finished reading tolkien file for: Galatians.txt\n"
     ]
    }
   ],
   "source": [
    "split_lang(filenames[4])"
   ]
  },
  {
   "cell_type": "code",
   "execution_count": 87,
   "metadata": {},
   "outputs": [
    {
     "name": "stdout",
     "output_type": "stream",
     "text": [
      "Finished reading english file for: Philippians.txt\n",
      "Finished reading tolkien file for: Philippians.txt\n"
     ]
    }
   ],
   "source": [
    "split_lang(filenames[5])"
   ]
  },
  {
   "cell_type": "code",
   "execution_count": 88,
   "metadata": {},
   "outputs": [
    {
     "name": "stdout",
     "output_type": "stream",
     "text": [
      "Finished reading english file for: Romans-2018.txt\n",
      "Finished reading tolkien file for: Romans-2018.txt\n"
     ]
    }
   ],
   "source": [
    "split_lang(filenames[6])"
   ]
  },
  {
   "cell_type": "code",
   "execution_count": 89,
   "metadata": {},
   "outputs": [
    {
     "name": "stdout",
     "output_type": "stream",
     "text": [
      "Finished reading english file for: Cardar-2022.txt\n",
      "Finished reading tolkien file for: Cardar-2022.txt\n"
     ]
    }
   ],
   "source": [
    "split_lang(filenames[7])"
   ]
  },
  {
   "cell_type": "code",
   "execution_count": 34,
   "metadata": {},
   "outputs": [
    {
     "ename": "TypeError",
     "evalue": "TextIOWrapper.read() takes no keyword arguments",
     "output_type": "error",
     "traceback": [
      "\u001b[1;31m---------------------------------------------------------------------------\u001b[0m",
      "\u001b[1;31mTypeError\u001b[0m                                 Traceback (most recent call last)",
      "\u001b[1;32m<ipython-input-34-33aec78fc6ba>\u001b[0m in \u001b[0;36m<module>\u001b[1;34m\u001b[0m\n\u001b[1;32m----> 1\u001b[1;33m \u001b[0msplit_lang\u001b[0m\u001b[1;33m(\u001b[0m\u001b[0mfilenames\u001b[0m\u001b[1;33m[\u001b[0m\u001b[1;36m8\u001b[0m\u001b[1;33m]\u001b[0m\u001b[1;33m)\u001b[0m\u001b[1;33m\u001b[0m\u001b[1;33m\u001b[0m\u001b[0m\n\u001b[0m",
      "\u001b[1;32m<ipython-input-33-0b35fefacc69>\u001b[0m in \u001b[0;36msplit_lang\u001b[1;34m(filename)\u001b[0m\n\u001b[0;32m      3\u001b[0m \u001b[1;33m\u001b[0m\u001b[0m\n\u001b[0;32m      4\u001b[0m     \u001b[1;32mwith\u001b[0m \u001b[0mopen\u001b[0m\u001b[1;33m(\u001b[0m\u001b[1;34mf'data_raw/{filename}'\u001b[0m\u001b[1;33m,\u001b[0m \u001b[1;34m'r'\u001b[0m\u001b[1;33m,\u001b[0m \u001b[0mencoding\u001b[0m\u001b[1;33m=\u001b[0m\u001b[1;34m'utf-8'\u001b[0m\u001b[1;33m)\u001b[0m \u001b[1;32mas\u001b[0m \u001b[0mf\u001b[0m\u001b[1;33m:\u001b[0m\u001b[1;33m\u001b[0m\u001b[1;33m\u001b[0m\u001b[0m\n\u001b[1;32m----> 5\u001b[1;33m         \u001b[0mlines\u001b[0m \u001b[1;33m=\u001b[0m \u001b[0mf\u001b[0m\u001b[1;33m.\u001b[0m\u001b[0mread\u001b[0m\u001b[1;33m(\u001b[0m\u001b[0mencoding\u001b[0m\u001b[1;33m=\u001b[0m\u001b[1;34m'utf-8'\u001b[0m\u001b[1;33m)\u001b[0m\u001b[1;33m.\u001b[0m\u001b[0msplitlines\u001b[0m\u001b[1;33m(\u001b[0m\u001b[1;33m)\u001b[0m\u001b[1;33m\u001b[0m\u001b[1;33m\u001b[0m\u001b[0m\n\u001b[0m\u001b[0;32m      6\u001b[0m \u001b[1;33m\u001b[0m\u001b[0m\n\u001b[0;32m      7\u001b[0m     \u001b[0mlines_\u001b[0m \u001b[1;33m=\u001b[0m \u001b[0mlines\u001b[0m\u001b[1;33m[\u001b[0m\u001b[1;36m4\u001b[0m\u001b[1;33m:\u001b[0m\u001b[1;33m]\u001b[0m \u001b[1;31m#lines[339:375]\u001b[0m\u001b[1;33m\u001b[0m\u001b[1;33m\u001b[0m\u001b[0m\n",
      "\u001b[1;31mTypeError\u001b[0m: TextIOWrapper.read() takes no keyword arguments"
     ]
    }
   ],
   "source": [
    "split_lang(filenames[8])"
   ]
  },
  {
   "cell_type": "code",
   "execution_count": 43,
   "metadata": {},
   "outputs": [],
   "source": [
    "with open(f'data_raw/Luke-2022.txt', 'r') as f:\n",
    "    lines = f.read().splitlines()"
   ]
  },
  {
   "cell_type": "code",
   "execution_count": 47,
   "metadata": {},
   "outputs": [],
   "source": [
    "with open(f'data_raw/Cardar-2022.txt', 'r') as f:\n",
    "    lines = f.read().splitlines()"
   ]
  },
  {
   "cell_type": "code",
   "execution_count": 48,
   "metadata": {},
   "outputs": [
    {
     "name": "stdout",
     "output_type": "stream",
     "text": [
      "['\\t27 In those days [there] came prophets down from Jerusalem to Antioch. 28 One among them, whose name was Agabus, arose and made known by the Spirit that [there] was going to come a great famine upon the entire world. That indeed came in the days of Claudius. 29 Therefore [those] that had more than their need chose to send assistance [mána: a boon] to the brothers that were in Judea. 30 And so they did, sending it to the elders by the hand of Barnabas and Saul.', '', 'RANTA 12 ']\n"
     ]
    }
   ],
   "source": [
    "print(lines[370:373])"
   ]
  },
  {
   "cell_type": "code",
   "execution_count": 53,
   "metadata": {},
   "outputs": [
    {
     "name": "stdout",
     "output_type": "stream",
     "text": [
      "True\n"
     ]
    }
   ],
   "source": [
    "print(not lines[371])"
   ]
  },
  {
   "cell_type": "code",
   "execution_count": 55,
   "metadata": {},
   "outputs": [
    {
     "name": "stdout",
     "output_type": "stream",
     "text": [
      "RANTA 12 \n"
     ]
    }
   ],
   "source": [
    "print(lines[372])"
   ]
  },
  {
   "cell_type": "code",
   "execution_count": 14,
   "metadata": {},
   "outputs": [],
   "source": [
    "trained_en = ['data_proc/' + fi for fi in os.listdir('data_proc') if fi[-2:]=='en']"
   ]
  },
  {
   "cell_type": "code",
   "execution_count": 15,
   "metadata": {},
   "outputs": [
    {
     "data": {
      "text/plain": [
       "['data_proc/1Cor-2019.txt.en',\n",
       " 'data_proc/Cardar-2022.txt.en',\n",
       " 'data_proc/Colossians.txt.en',\n",
       " 'data_proc/en-tolk.en',\n",
       " 'data_proc/Ephesians.txt.en',\n",
       " 'data_proc/Galatians.txt.en',\n",
       " 'data_proc/John-2022.txt.en',\n",
       " 'data_proc/Luke-2022.txt.en',\n",
       " 'data_proc/Philippians.txt.en',\n",
       " 'data_proc/Romans-2018.txt.en']"
      ]
     },
     "execution_count": 15,
     "metadata": {},
     "output_type": "execute_result"
    }
   ],
   "source": [
    "trained_en"
   ]
  },
  {
   "cell_type": "code",
   "execution_count": 20,
   "metadata": {},
   "outputs": [],
   "source": [
    "with open('data_proc/en-tolk.en', 'w', encoding='utf-8') as outfile:\n",
    "    for fname in trained_en:\n",
    "        with open(fname, encoding='utf-8') as infile:\n",
    "            outfile.write(infile.read())"
   ]
  },
  {
   "cell_type": "code",
   "execution_count": 23,
   "metadata": {},
   "outputs": [],
   "source": [
    "trained_tkn = ['data_proc/' + fi for fi in os.listdir('data_proc') if fi[-3:]=='tkn']"
   ]
  },
  {
   "cell_type": "code",
   "execution_count": 24,
   "metadata": {},
   "outputs": [
    {
     "data": {
      "text/plain": [
       "['data_proc/1Cor-2019.txt.tkn',\n",
       " 'data_proc/Cardar-2022.txt.tkn',\n",
       " 'data_proc/Colossians.txt.tkn',\n",
       " 'data_proc/Ephesians.txt.tkn',\n",
       " 'data_proc/Galatians.txt.tkn',\n",
       " 'data_proc/John-2022.txt.tkn',\n",
       " 'data_proc/Luke-2022.txt.tkn',\n",
       " 'data_proc/Philippians.txt.tkn',\n",
       " 'data_proc/Romans-2018.txt.tkn']"
      ]
     },
     "execution_count": 24,
     "metadata": {},
     "output_type": "execute_result"
    }
   ],
   "source": [
    "trained_tkn"
   ]
  },
  {
   "cell_type": "code",
   "execution_count": 25,
   "metadata": {},
   "outputs": [],
   "source": [
    "with open('data_proc/en-tolk.tkn', 'w', encoding='utf-8') as outfile:\n",
    "    for fname in trained_tkn:\n",
    "        with open(fname, encoding='utf-8') as infile:\n",
    "            outfile.write(infile.read())"
   ]
  },
  {
   "cell_type": "code",
   "execution_count": null,
   "metadata": {},
   "outputs": [],
   "source": []
  }
 ],
 "metadata": {
  "kernelspec": {
   "display_name": "base",
   "language": "python",
   "name": "python3"
  },
  "language_info": {
   "codemirror_mode": {
    "name": "ipython",
    "version": 3
   },
   "file_extension": ".py",
   "mimetype": "text/x-python",
   "name": "python",
   "nbconvert_exporter": "python",
   "pygments_lexer": "ipython3",
   "version": "3.9.13"
  },
  "orig_nbformat": 4
 },
 "nbformat": 4,
 "nbformat_minor": 2
}
